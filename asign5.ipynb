{
 "cells": [
  {
   "cell_type": "code",
   "execution_count": null,
   "id": "99f05418-fdc8-4ab7-aca0-6ebd6788089f",
   "metadata": {},
   "outputs": [],
   "source": [
    "# Dataset Source:\n",
    "# I found this dataset on Kaggle (Titanic Dataset).\n",
    "\n",
    "# Variables:\n",
    "# X1 (independent variable): Pclass (ticket class: 1 = 1st, 2 = 2nd, 3 = 3rd)\n",
    "# X2 (independent variable): Age (passenger's age)\n",
    "# Y (dependent variable): Fare (ticket price paid)\n",
    "\n",
    "# Why I chose these:\n",
    "# - \"Pclass\" is numeric (ordinal: 1, 2, 3) and strongly relates to ticket cost.\n",
    "# - \"Age\" is numeric and may also influence ticket price (e.g., adult vs. child).\n",
    "# - \"Fare\" is a continuous numeric variable, making it a suitable target for regression.\n",
    "\n",
    "# Why this is a good prediction sample:\n",
    "# - The Titanic dataset is well-known and provides enough rows (891 passengers) to train and test a regression model.\n",
    "# - \"Fare\" is continuous and works well as Y, while \"Pclass\" and \"Age\" are solid numeric predictors.\n",
    "# - This setup allows us to practice multiple regression with real-world data while avoiding classification targets like \"Survived.\"\n"
   ]
  },
  {
   "cell_type": "code",
   "execution_count": null,
   "id": "b6d3d59f-6fd1-424d-9e16-9565657d8623",
   "metadata": {},
   "outputs": [],
   "source": [
    "# Step 1: Import libraries\n",
    "import pandas as pd\n",
    "import matplotlib.pyplot as plt\n",
    "import seaborn as sns\n",
    "from sklearn.linear_model import LinearRegression\n",
    "from sklearn.model_selection import train_test_split\n",
    "from sklearn.metrics import mean_squared_error, r2_score\n",
    "\n",
    "# Step 2: Load dataset from YOUR GitHub repo\n",
    "url = \"https://raw.githubusercontent.com/KylePhan1/ITEC4700Assignment5/main/Titanic-Dataset.csv\"\n",
    "df = pd.read_csv(url)\n",
    "\n",
    "# Step 3: Select relevant columns\n",
    "df = df[['Pclass', 'Age', 'Fare']]   # keep only the columns we need\n",
    "df = df.dropna()   # remove rows with missing Age values\n",
    "\n",
    "# Step 4: Define Xs and Y\n",
    "X = df[['Pclass', 'Age']]   # independent variables\n",
    "y = df['Fare']              # dependent variable\n",
    "\n",
    "# Step 5: Train/test split\n",
    "X_train, X_test, y_train, y_test = train_test_split(X, y, test_size=0.2, random_state=42)\n",
    "\n",
    "# Step 6: Fit regression model\n",
    "model = LinearRegression()\n",
    "model.fit(X_train, y_train)\n",
    "\n",
    "# Step 7: Make predictions\n",
    "y_pred = model.predict(X_test)\n",
    "\n",
    "# Step 8: Evaluate model\n",
    "print(\"Coefficients:\", model.coef_)\n",
    "print(\"Intercept:\", model.intercept_)\n",
    "print(\"R^2 Score:\", r2_score(y_test, y_pred))\n",
    "print(\"Mean Squared Error:\", mean_squared_error(y_test, y_pred))\n",
    "\n",
    "# Step 9: Visualization\n",
    "plt.scatter(y_test, y_pred, alpha=0.7)\n",
    "plt.xlabel(\"Actual Fare\")\n",
    "plt.ylabel(\"Predicted Fare\")\n",
    "plt.title(\"Actual vs Predicted Titanic Fares\")\n",
    "plt.show()\n",
    "\n"
   ]
  }
 ],
 "metadata": {
  "kernelspec": {
   "display_name": "Python 3 (ipykernel)",
   "language": "python",
   "name": "python3"
  },
  "language_info": {
   "codemirror_mode": {
    "name": "ipython",
    "version": 3
   },
   "file_extension": ".py",
   "mimetype": "text/x-python",
   "name": "python",
   "nbconvert_exporter": "python",
   "pygments_lexer": "ipython3",
   "version": "3.13.5"
  }
 },
 "nbformat": 4,
 "nbformat_minor": 5
}
